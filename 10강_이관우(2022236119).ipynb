{
 "cells": [
  {
   "cell_type": "code",
   "execution_count": 1,
   "id": "08f217ac",
   "metadata": {},
   "outputs": [],
   "source": [
    "result = 0\n",
    "def adder(num) :\n",
    "    global result\n",
    "    result += num\n",
    "    return result"
   ]
  },
  {
   "cell_type": "code",
   "execution_count": 2,
   "id": "2bc01145",
   "metadata": {},
   "outputs": [
    {
     "data": {
      "text/plain": [
       "3"
      ]
     },
     "execution_count": 2,
     "metadata": {},
     "output_type": "execute_result"
    }
   ],
   "source": [
    "adder(3)"
   ]
  },
  {
   "cell_type": "code",
   "execution_count": 3,
   "id": "1afc9476",
   "metadata": {},
   "outputs": [
    {
     "data": {
      "text/plain": [
       "7"
      ]
     },
     "execution_count": 3,
     "metadata": {},
     "output_type": "execute_result"
    }
   ],
   "source": [
    "adder(4)"
   ]
  },
  {
   "cell_type": "code",
   "execution_count": 4,
   "id": "b27c36ec",
   "metadata": {},
   "outputs": [],
   "source": [
    "result1=0\n",
    "result2=0"
   ]
  },
  {
   "cell_type": "code",
   "execution_count": 5,
   "id": "d530cee2",
   "metadata": {},
   "outputs": [],
   "source": [
    "def adder1(num) :\n",
    "    global result1\n",
    "    result1 += num\n",
    "    return result1"
   ]
  },
  {
   "cell_type": "code",
   "execution_count": 6,
   "id": "18ad54f5",
   "metadata": {},
   "outputs": [],
   "source": [
    "def adder2(num) :\n",
    "    global result2\n",
    "    result2 += num\n",
    "    return result2"
   ]
  },
  {
   "cell_type": "code",
   "execution_count": 7,
   "id": "94ba8128",
   "metadata": {},
   "outputs": [
    {
     "data": {
      "text/plain": [
       "3"
      ]
     },
     "execution_count": 7,
     "metadata": {},
     "output_type": "execute_result"
    }
   ],
   "source": [
    "adder1(3)"
   ]
  },
  {
   "cell_type": "code",
   "execution_count": 8,
   "id": "b33502f1",
   "metadata": {},
   "outputs": [
    {
     "data": {
      "text/plain": [
       "7"
      ]
     },
     "execution_count": 8,
     "metadata": {},
     "output_type": "execute_result"
    }
   ],
   "source": [
    "adder1(4)"
   ]
  },
  {
   "cell_type": "code",
   "execution_count": 9,
   "id": "b6b90beb",
   "metadata": {},
   "outputs": [
    {
     "data": {
      "text/plain": [
       "3"
      ]
     },
     "execution_count": 9,
     "metadata": {},
     "output_type": "execute_result"
    }
   ],
   "source": [
    "adder2(3)"
   ]
  },
  {
   "cell_type": "code",
   "execution_count": 10,
   "id": "80e9cb44",
   "metadata": {},
   "outputs": [
    {
     "data": {
      "text/plain": [
       "10"
      ]
     },
     "execution_count": 10,
     "metadata": {},
     "output_type": "execute_result"
    }
   ],
   "source": [
    "adder2(7)"
   ]
  },
  {
   "cell_type": "code",
   "execution_count": 11,
   "id": "d3eb5f19",
   "metadata": {},
   "outputs": [
    {
     "name": "stdout",
     "output_type": "stream",
     "text": [
      "3\n",
      "7\n",
      "3\n",
      "13\n"
     ]
    }
   ],
   "source": [
    "class Calculator :\n",
    "    def __init__(self) :\n",
    "        self.result = 0\n",
    "    def adder (self,num):\n",
    "        self.result += num\n",
    "        return self.result\n",
    "\n",
    "cal1=Calculator()\n",
    "cal2=Calculator()\n",
    "\n",
    "print(cal1.adder(3))\n",
    "print(cal1.adder(4))\n",
    "print(cal2.adder(3))\n",
    "print(cal2.adder(10))"
   ]
  },
  {
   "cell_type": "code",
   "execution_count": 12,
   "id": "9579fe34",
   "metadata": {},
   "outputs": [],
   "source": [
    "class Service:\n",
    "    secret=\"지구는 4006년에 멸망한다.\""
   ]
  },
  {
   "cell_type": "code",
   "execution_count": 13,
   "id": "040e813e",
   "metadata": {},
   "outputs": [],
   "source": [
    "s = Service()"
   ]
  },
  {
   "cell_type": "code",
   "execution_count": 14,
   "id": "fb85cbfa",
   "metadata": {},
   "outputs": [
    {
     "data": {
      "text/plain": [
       "'지구는 4006년에 멸망한다.'"
      ]
     },
     "execution_count": 14,
     "metadata": {},
     "output_type": "execute_result"
    }
   ],
   "source": [
    "s.secret"
   ]
  },
  {
   "cell_type": "code",
   "execution_count": 15,
   "id": "61540c2f",
   "metadata": {},
   "outputs": [],
   "source": [
    "class Service:\n",
    "    secret=\"지구는 4006년에 멸망한다.\"\n",
    "    def sum(self, a, b) :\n",
    "        result = a+b\n",
    "        print(\"%s + %s = %s이다\" % (a,b,result))"
   ]
  },
  {
   "cell_type": "code",
   "execution_count": 16,
   "id": "83c161d1",
   "metadata": {},
   "outputs": [],
   "source": [
    "an = Service()"
   ]
  },
  {
   "cell_type": "code",
   "execution_count": 17,
   "id": "204f5877",
   "metadata": {},
   "outputs": [
    {
     "name": "stdout",
     "output_type": "stream",
     "text": [
      "1 + 1 = 2이다\n"
     ]
    }
   ],
   "source": [
    "an.sum(1,1)"
   ]
  },
  {
   "cell_type": "code",
   "execution_count": 18,
   "id": "1c4c2282",
   "metadata": {},
   "outputs": [],
   "source": [
    "class Service:\n",
    "    secret=\"지구는 4006년에 멸망한다.\"\n",
    "    def setname(self, name) :\n",
    "        self.name = name\n",
    "    \n",
    "    def sum(self, a, b) :\n",
    "        result=a+b\n",
    "        print(\"%s님, %s + %s = %s이다\" % (self.name, a,b,result))"
   ]
  },
  {
   "cell_type": "code",
   "execution_count": 19,
   "id": "b15859c5",
   "metadata": {},
   "outputs": [],
   "source": [
    "an = Service()"
   ]
  },
  {
   "cell_type": "code",
   "execution_count": 20,
   "id": "ae441f53",
   "metadata": {},
   "outputs": [],
   "source": [
    "an.setname(\"박달도사\")"
   ]
  },
  {
   "cell_type": "code",
   "execution_count": 21,
   "id": "ec505848",
   "metadata": {},
   "outputs": [
    {
     "name": "stdout",
     "output_type": "stream",
     "text": [
      "박달도사님, 1 + 1 = 2이다\n"
     ]
    }
   ],
   "source": [
    "an.sum(1,1)"
   ]
  },
  {
   "cell_type": "code",
   "execution_count": 22,
   "id": "73b6c8b8",
   "metadata": {},
   "outputs": [],
   "source": [
    "class Service:\n",
    "    secret=\"지구는 4006년에 멸망한다.\"\n",
    "    def __init__(self, name) :\n",
    "        self.name = name\n",
    "    \n",
    "    def sum(self, a, b) :\n",
    "        result=a+b\n",
    "        print(\"%s님, %s + %s = %s입니다\" % (self.name, a,b,result))"
   ]
  },
  {
   "cell_type": "code",
   "execution_count": 23,
   "id": "acf5a2a7",
   "metadata": {},
   "outputs": [],
   "source": [
    "an = Service(\"박달도사\")"
   ]
  },
  {
   "cell_type": "code",
   "execution_count": 24,
   "id": "41644bd1",
   "metadata": {},
   "outputs": [
    {
     "name": "stdout",
     "output_type": "stream",
     "text": [
      "박달도사님, 1 + 1 = 2입니다\n"
     ]
    }
   ],
   "source": [
    "an.sum(1,1)"
   ]
  },
  {
   "cell_type": "code",
   "execution_count": 25,
   "id": "dc8ccee6",
   "metadata": {},
   "outputs": [],
   "source": [
    "class FourCal:\n",
    "    def setdata(self, first, second) :\n",
    "        self.first = first\n",
    "        self.second = second"
   ]
  },
  {
   "cell_type": "code",
   "execution_count": 26,
   "id": "09f449d7",
   "metadata": {},
   "outputs": [],
   "source": [
    "a = FourCal()"
   ]
  },
  {
   "cell_type": "code",
   "execution_count": 27,
   "id": "a7e5a67c",
   "metadata": {},
   "outputs": [
    {
     "name": "stdout",
     "output_type": "stream",
     "text": [
      "<class '__main__.FourCal'>\n"
     ]
    }
   ],
   "source": [
    "print(type(a))"
   ]
  },
  {
   "cell_type": "code",
   "execution_count": 28,
   "id": "8b990773",
   "metadata": {},
   "outputs": [],
   "source": [
    "a.setdata(4,2)"
   ]
  },
  {
   "cell_type": "code",
   "execution_count": 29,
   "id": "55726fa0",
   "metadata": {},
   "outputs": [
    {
     "data": {
      "text/plain": [
       "4"
      ]
     },
     "execution_count": 29,
     "metadata": {},
     "output_type": "execute_result"
    }
   ],
   "source": [
    "a.first"
   ]
  },
  {
   "cell_type": "code",
   "execution_count": 30,
   "id": "5b59f5a2",
   "metadata": {},
   "outputs": [
    {
     "data": {
      "text/plain": [
       "2"
      ]
     },
     "execution_count": 30,
     "metadata": {},
     "output_type": "execute_result"
    }
   ],
   "source": [
    "a.second"
   ]
  },
  {
   "cell_type": "code",
   "execution_count": 31,
   "id": "179c423a",
   "metadata": {},
   "outputs": [],
   "source": [
    "class FourCal:\n",
    "    def setdata(self, first, second) :\n",
    "        self.first = first\n",
    "        self.second = second\n",
    "        \n",
    "    def sum(self):\n",
    "        result=self.first+self.second\n",
    "        return result"
   ]
  },
  {
   "cell_type": "code",
   "execution_count": 32,
   "id": "47259ca5",
   "metadata": {},
   "outputs": [],
   "source": [
    "a = FourCal()"
   ]
  },
  {
   "cell_type": "code",
   "execution_count": 33,
   "id": "2d787c93",
   "metadata": {},
   "outputs": [],
   "source": [
    "a.setdata(4,2)"
   ]
  },
  {
   "cell_type": "code",
   "execution_count": 34,
   "id": "cce39a8f",
   "metadata": {},
   "outputs": [
    {
     "name": "stdout",
     "output_type": "stream",
     "text": [
      "6\n"
     ]
    }
   ],
   "source": [
    "print(a.sum())"
   ]
  },
  {
   "cell_type": "code",
   "execution_count": 35,
   "id": "2af697c4",
   "metadata": {},
   "outputs": [],
   "source": [
    "class FourCal:\n",
    "    def setdata(self, first, second) :\n",
    "        self.first = first\n",
    "        self.second = second\n",
    "        \n",
    "    def sum(self):\n",
    "        result=self.first+self.second\n",
    "        return result\n",
    "    \n",
    "    def mul(self):\n",
    "        result=self.first*self.second\n",
    "        return result\n",
    "    \n",
    "    def sub(self):\n",
    "        result=self.first-self.second\n",
    "        return result\n",
    "    \n",
    "    def div(self):\n",
    "        result=self.first/self.second\n",
    "        return result"
   ]
  },
  {
   "cell_type": "code",
   "execution_count": 36,
   "id": "7d701abe",
   "metadata": {},
   "outputs": [],
   "source": [
    "a=FourCal()"
   ]
  },
  {
   "cell_type": "code",
   "execution_count": 37,
   "id": "e115c9b7",
   "metadata": {},
   "outputs": [],
   "source": [
    "a.setdata(4,2)"
   ]
  },
  {
   "cell_type": "code",
   "execution_count": 38,
   "id": "4f2d2266",
   "metadata": {},
   "outputs": [
    {
     "data": {
      "text/plain": [
       "8"
      ]
     },
     "execution_count": 38,
     "metadata": {},
     "output_type": "execute_result"
    }
   ],
   "source": [
    "a.mul()"
   ]
  },
  {
   "cell_type": "code",
   "execution_count": 39,
   "id": "9620a1cd",
   "metadata": {},
   "outputs": [
    {
     "data": {
      "text/plain": [
       "2"
      ]
     },
     "execution_count": 39,
     "metadata": {},
     "output_type": "execute_result"
    }
   ],
   "source": [
    "a.sub()"
   ]
  },
  {
   "cell_type": "code",
   "execution_count": 40,
   "id": "c03c99ac",
   "metadata": {},
   "outputs": [
    {
     "data": {
      "text/plain": [
       "2.0"
      ]
     },
     "execution_count": 40,
     "metadata": {},
     "output_type": "execute_result"
    }
   ],
   "source": [
    "a.div()"
   ]
  }
 ],
 "metadata": {
  "kernelspec": {
   "display_name": "Python 3 (ipykernel)",
   "language": "python",
   "name": "python3"
  },
  "language_info": {
   "codemirror_mode": {
    "name": "ipython",
    "version": 3
   },
   "file_extension": ".py",
   "mimetype": "text/x-python",
   "name": "python",
   "nbconvert_exporter": "python",
   "pygments_lexer": "ipython3",
   "version": "3.10.7"
  }
 },
 "nbformat": 4,
 "nbformat_minor": 5
}
